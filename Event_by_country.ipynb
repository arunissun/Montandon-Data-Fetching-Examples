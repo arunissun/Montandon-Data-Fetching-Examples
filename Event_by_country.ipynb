{
  "cells": [
    {
      "cell_type": "code",
      "execution_count": null,
      "metadata": {
        "colab": {
          "base_uri": "https://localhost:8080/",
          "height": 579
        },
        "id": "TWITHDujksEN",
        "outputId": "2c846348-101c-4943-d3bc-b01015d72244"
      },
      "outputs": [
        {
          "data": {
            "text/html": [
              "<html>\n",
              "<head><meta charset=\"utf-8\" /></head>\n",
              "<body>\n",
              "    <div>            <script src=\"https://cdnjs.cloudflare.com/ajax/libs/mathjax/2.7.5/MathJax.js?config=TeX-AMS-MML_SVG\"></script><script type=\"text/javascript\">if (window.MathJax && window.MathJax.Hub && window.MathJax.Hub.Config) {window.MathJax.Hub.Config({SVG: {font: \"STIX-Web\"}});}</script>                <script type=\"text/javascript\">window.PlotlyConfig = {MathJaxConfig: 'local'};</script>\n",
              "        <script charset=\"utf-8\" src=\"https://cdn.plot.ly/plotly-2.35.2.min.js\"></script>                <div id=\"f7ce8090-106c-43e6-b21e-8b0eea4f2612\" class=\"plotly-graph-div\" style=\"height:525px; width:100%;\"></div>            <script type=\"text/javascript\">                                    window.PLOTLYENV=window.PLOTLYENV || {};                                    if (document.getElementById(\"f7ce8090-106c-43e6-b21e-8b0eea4f2612\")) {                    Plotly.newPlot(                        \"f7ce8090-106c-43e6-b21e-8b0eea4f2612\",                        [{\"coloraxis\":\"coloraxis\",\"geo\":\"geo\",\"hovertemplate\":\"\\u003cb\\u003e%{hovertext}\\u003c\\u002fb\\u003e\\u003cbr\\u003e\\u003cbr\\u003eiso3=%{location}\\u003cbr\\u003eEvent Count=%{z}\\u003cextra\\u003e\\u003c\\u002fextra\\u003e\",\"hovertext\":[\"Congo\",\"Ecuador\",\"Democratic Republic of the Congo\",\"Somalia\",\"Myanmar\",\"United Republic of Tanzania\",\"Sierra Leone\",\"Kyrgyzstan\",\"Malaysia\",\"Argentina\",\"Cameroon\",\"Botswana\",\"Zimbabwe\",\"Uganda\",\"Chile\",\"Guinea-Bissau\",\"Ghana\",\"Angola\",\"Ethiopia\",\"Vanuatu\",\"Gabon\",\"Honduras\",\"Colombia\",\"Costa Rica\",\"Panama\",\"Philippines\",\"Cuba\",\"Algeria\",\"Nepal\",\"Chad\",\"Portugal\",\"Romania\",\"Poland\",\"Viet Nam\",\"Pakistan\",\"Cabo Verde\",\"Burundi\",\"South Sudan\",\"Bolivia (Plurinational State of)\",\"Nigeria\",\"Barbados\",\"Grenada\",\"Jamaica\",\"Saint Vincent and the Grenadines\",\"Liberia\",\"South Africa\",\"Armenia\",\"Papua New Guinea\",\"Namibia\",\"Bangladesh\",\"Belize\",\"Kenya\",\"Guatemala\",\"Lesotho\",\"Brazil\",\"Yemen\",\"Afghanistan\",\"Mozambique\",\"Madagascar\",\"Kazakhstan\",\"Uruguay\",\"Burkina Faso\",\"Comoros\",\"Bosnia and Herzegovina\",\"Marshall Islands\",\"Zambia\",\"Guinea\",\"Maldives\",\"Micronesia (Federated States of)\",\"Dominican Republic\",\"Fiji\",\"Mongolia\",\"Iceland\",\"Mexico\",\"Sri Lanka\",\"Libya\",\"Mali\",\"Morocco\",\"Niger\",\"Indonesia\",\"Mauritania\",\"Syrian Arab Republic\",\"Greece\",\"Serbia\",\"Italy\",\"Malawi\",\"Slovenia\",\"Equatorial Guinea\",\"Turkey\",\"Iran (Islamic Republic of)\",\"Trinidad and Tobago\",\"Central African Republic\",\"Togo\",\"Lebanon\",\"Thailand\",\"Bulgaria\",\"Benin\",\"Lao People's Democratic Republic\",\"Gambia\",\"Georgia\",\"India\",\"Côte d'Ivoire\",\"Iraq\",\"Venezuela (Bolivarian Republic of)\",\"Sao Tome and Principe\",\"Tunisia\",\"Timor-Leste\",\"State of Palestine\",\"Tonga\",\"Haiti\",\"The former Yugoslav Republic of Macedonia\",\"Tuvalu\",\"Rwanda\",\"Suriname\",\"Guyana\",\"Tajikistan\",\"Palau\",\"Croatia\",\"Nicaragua\",\"Saint Lucia\",\"Senegal\",\"Sudan\",\"Ukraine\",\"Egypt\",\"Paraguay\",\"United States\",\"Canada\",\"Australia\",\"French Guiana\",\"El Salvador\",\"Russian Federation\",\"China\",\"United Kingdom\",\"Peru\",\"Taiwan\",\"New Zealand\",\"Slovakia\",\"Czechia\",\"Japan\",\"Greenland\",\"Germany\",\"Democratic People's Republic of Korea\",\"Spain\",\"Eritrea\",\"Saudi Arabia\",\"Republic of Moldova\",\"Austria\",\"Switzerland\",\"Bhutan\",\"Albania\",\"Montenegro\",\"Uzbekistan\",\"Turkmenistan\",\"KSV\",\"Kiribati\",\"Curaçao\",\"Aruba\",\"Saint Martin (French part)\",\"Puerto Rico\",\"Martinique\",\"Cayman Islands\",\"Caribbean Netherlands\",\"Niue\",\"Anguilla\",\"U.S. Virgin Islands\",\"Turks and Caicos Islands\",\"French Polynesia\",\"Guadeloupe\",\"Cook Islands\",\"St. Barthélemy\",\"Antigua and Barbuda\",\"British Virgin Islands\",\"Saint Kitts and Nevis\",\"Dominica\",\"Sint Maarten\",\"Wallis & Futuna\",\"Montserrat\",\"Solomon Islands\",\"France\",\"San Marino\",\"Northern Mariana Islands\",\"Hong Kong SAR China\",\"Guam\",\"Sweden\",\"Belgium\",\"Liechtenstein\",\"Republic of Korea\",\"Finland\",\"Åland Islands\",\"Hungary\",\"Macao SAR China\",\"Cambodia\"],\"locations\":[\"COG\",\"ECU\",\"COD\",\"SOM\",\"MMR\",\"TZA\",\"SLE\",\"KGZ\",\"MYS\",\"ARG\",\"CMR\",\"BWA\",\"ZWE\",\"UGA\",\"CHL\",\"GNB\",\"GHA\",\"AGO\",\"ETH\",\"VUT\",\"GAB\",\"HND\",\"COL\",\"CRI\",\"PAN\",\"PHL\",\"CUB\",\"DZA\",\"NPL\",\"TCD\",\"PRT\",\"ROU\",\"POL\",\"VNM\",\"PAK\",\"CPV\",\"BDI\",\"SSD\",\"BOL\",\"NGA\",\"BRB\",\"GRD\",\"JAM\",\"VCT\",\"LBR\",\"ZAF\",\"ARM\",\"PNG\",\"NAM\",\"BGD\",\"BLZ\",\"KEN\",\"GTM\",\"LSO\",\"BRA\",\"YEM\",\"AFG\",\"MOZ\",\"MDG\",\"KAZ\",\"URY\",\"BFA\",\"COM\",\"BIH\",\"MHL\",\"ZMB\",\"GIN\",\"MDV\",\"FSM\",\"DOM\",\"FJI\",\"MNG\",\"ISL\",\"MEX\",\"LKA\",\"LBY\",\"MLI\",\"MAR\",\"NER\",\"IDN\",\"MRT\",\"SYR\",\"GRC\",\"SRB\",\"ITA\",\"MWI\",\"SVN\",\"GNQ\",\"TUR\",\"IRN\",\"TTO\",\"CAF\",\"TGO\",\"LBN\",\"THA\",\"BGR\",\"BEN\",\"LAO\",\"GMB\",\"GEO\",\"IND\",\"CIV\",\"IRQ\",\"VEN\",\"STP\",\"TUN\",\"TLS\",\"PSE\",\"TON\",\"HTI\",\"MKD\",\"TUV\",\"RWA\",\"SUR\",\"GUY\",\"TJK\",\"PLW\",\"HRV\",\"NIC\",\"LCA\",\"SEN\",\"SDN\",\"UKR\",\"EGY\",\"PRY\",\"USA\",\"CAN\",\"AUS\",\"GUF\",\"SLV\",\"RUS\",\"CHN\",\"GBR\",\"PER\",\"TWN\",\"NZL\",\"SVK\",\"CZE\",\"JPN\",\"GRL\",\"DEU\",\"PRK\",\"ESP\",\"ERI\",\"SAU\",\"MDA\",\"AUT\",\"CHE\",\"BTN\",\"ALB\",\"MNE\",\"UZB\",\"TKM\",\"KSV\",\"KIR\",\"CUW\",\"ABW\",\"MAF\",\"PRI\",\"MTQ\",\"CYM\",\"BES\",\"NIU\",\"AIA\",\"VIR\",\"TCA\",\"PYF\",\"GLP\",\"COK\",\"BLM\",\"ATG\",\"VGB\",\"KNA\",\"DMA\",\"SXM\",\"WLF\",\"MSR\",\"SLB\",\"FRA\",\"SMR\",\"MNP\",\"HKG\",\"GUM\",\"SWE\",\"BEL\",\"LIE\",\"KOR\",\"FIN\",\"ALA\",\"HUN\",\"MAC\",\"KHM\"],\"name\":\"\",\"z\":[10,112,97,9,125,14,5,6,11,44,45,3,5,6,21,2,2,188,9,8,9,16,63,10,14,63,7,6,24,45,75,16,4,66,18,2,4,4,217,9,1,4,2,5,3,7,2,8,2,14,14,12,42,2,101,8,9,8,4,8,2,16,2,38,2,9,6,1,1,4,7,13,28,125,7,1,10,1,17,92,11,6,35,13,21,3,1,1,12,13,1,9,1,1,36,36,2,43,2,3,130,2,1,69,2,2,1,2,10,1,30,1,2,6,44,2,1,8,43,6,1,1,8,1,8,1787,4364,743,1,22,189,262,3,17,19,37,5,4,98,22,9,2,32,1,3,3,9,7,11,33,8,1,1,9,3,3,3,3,11,3,6,3,3,3,3,3,3,3,3,3,3,3,3,3,3,3,3,5,5,1,34,26,1,19,1,1,5,45,4,5,16,1],\"type\":\"choropleth\"}],                        {\"template\":{\"data\":{\"histogram2dcontour\":[{\"type\":\"histogram2dcontour\",\"colorbar\":{\"outlinewidth\":0,\"ticks\":\"\"},\"colorscale\":[[0.0,\"#0d0887\"],[0.1111111111111111,\"#46039f\"],[0.2222222222222222,\"#7201a8\"],[0.3333333333333333,\"#9c179e\"],[0.4444444444444444,\"#bd3786\"],[0.5555555555555556,\"#d8576b\"],[0.6666666666666666,\"#ed7953\"],[0.7777777777777778,\"#fb9f3a\"],[0.8888888888888888,\"#fdca26\"],[1.0,\"#f0f921\"]]}],\"choropleth\":[{\"type\":\"choropleth\",\"colorbar\":{\"outlinewidth\":0,\"ticks\":\"\"}}],\"histogram2d\":[{\"type\":\"histogram2d\",\"colorbar\":{\"outlinewidth\":0,\"ticks\":\"\"},\"colorscale\":[[0.0,\"#0d0887\"],[0.1111111111111111,\"#46039f\"],[0.2222222222222222,\"#7201a8\"],[0.3333333333333333,\"#9c179e\"],[0.4444444444444444,\"#bd3786\"],[0.5555555555555556,\"#d8576b\"],[0.6666666666666666,\"#ed7953\"],[0.7777777777777778,\"#fb9f3a\"],[0.8888888888888888,\"#fdca26\"],[1.0,\"#f0f921\"]]}],\"heatmap\":[{\"type\":\"heatmap\",\"colorbar\":{\"outlinewidth\":0,\"ticks\":\"\"},\"colorscale\":[[0.0,\"#0d0887\"],[0.1111111111111111,\"#46039f\"],[0.2222222222222222,\"#7201a8\"],[0.3333333333333333,\"#9c179e\"],[0.4444444444444444,\"#bd3786\"],[0.5555555555555556,\"#d8576b\"],[0.6666666666666666,\"#ed7953\"],[0.7777777777777778,\"#fb9f3a\"],[0.8888888888888888,\"#fdca26\"],[1.0,\"#f0f921\"]]}],\"heatmapgl\":[{\"type\":\"heatmapgl\",\"colorbar\":{\"outlinewidth\":0,\"ticks\":\"\"},\"colorscale\":[[0.0,\"#0d0887\"],[0.1111111111111111,\"#46039f\"],[0.2222222222222222,\"#7201a8\"],[0.3333333333333333,\"#9c179e\"],[0.4444444444444444,\"#bd3786\"],[0.5555555555555556,\"#d8576b\"],[0.6666666666666666,\"#ed7953\"],[0.7777777777777778,\"#fb9f3a\"],[0.8888888888888888,\"#fdca26\"],[1.0,\"#f0f921\"]]}],\"contourcarpet\":[{\"type\":\"contourcarpet\",\"colorbar\":{\"outlinewidth\":0,\"ticks\":\"\"}}],\"contour\":[{\"type\":\"contour\",\"colorbar\":{\"outlinewidth\":0,\"ticks\":\"\"},\"colorscale\":[[0.0,\"#0d0887\"],[0.1111111111111111,\"#46039f\"],[0.2222222222222222,\"#7201a8\"],[0.3333333333333333,\"#9c179e\"],[0.4444444444444444,\"#bd3786\"],[0.5555555555555556,\"#d8576b\"],[0.6666666666666666,\"#ed7953\"],[0.7777777777777778,\"#fb9f3a\"],[0.8888888888888888,\"#fdca26\"],[1.0,\"#f0f921\"]]}],\"surface\":[{\"type\":\"surface\",\"colorbar\":{\"outlinewidth\":0,\"ticks\":\"\"},\"colorscale\":[[0.0,\"#0d0887\"],[0.1111111111111111,\"#46039f\"],[0.2222222222222222,\"#7201a8\"],[0.3333333333333333,\"#9c179e\"],[0.4444444444444444,\"#bd3786\"],[0.5555555555555556,\"#d8576b\"],[0.6666666666666666,\"#ed7953\"],[0.7777777777777778,\"#fb9f3a\"],[0.8888888888888888,\"#fdca26\"],[1.0,\"#f0f921\"]]}],\"mesh3d\":[{\"type\":\"mesh3d\",\"colorbar\":{\"outlinewidth\":0,\"ticks\":\"\"}}],\"scatter\":[{\"fillpattern\":{\"fillmode\":\"overlay\",\"size\":10,\"solidity\":0.2},\"type\":\"scatter\"}],\"parcoords\":[{\"type\":\"parcoords\",\"line\":{\"colorbar\":{\"outlinewidth\":0,\"ticks\":\"\"}}}],\"scatterpolargl\":[{\"type\":\"scatterpolargl\",\"marker\":{\"colorbar\":{\"outlinewidth\":0,\"ticks\":\"\"}}}],\"bar\":[{\"error_x\":{\"color\":\"#2a3f5f\"},\"error_y\":{\"color\":\"#2a3f5f\"},\"marker\":{\"line\":{\"color\":\"#E5ECF6\",\"width\":0.5},\"pattern\":{\"fillmode\":\"overlay\",\"size\":10,\"solidity\":0.2}},\"type\":\"bar\"}],\"scattergeo\":[{\"type\":\"scattergeo\",\"marker\":{\"colorbar\":{\"outlinewidth\":0,\"ticks\":\"\"}}}],\"scatterpolar\":[{\"type\":\"scatterpolar\",\"marker\":{\"colorbar\":{\"outlinewidth\":0,\"ticks\":\"\"}}}],\"histogram\":[{\"marker\":{\"pattern\":{\"fillmode\":\"overlay\",\"size\":10,\"solidity\":0.2}},\"type\":\"histogram\"}],\"scattergl\":[{\"type\":\"scattergl\",\"marker\":{\"colorbar\":{\"outlinewidth\":0,\"ticks\":\"\"}}}],\"scatter3d\":[{\"type\":\"scatter3d\",\"line\":{\"colorbar\":{\"outlinewidth\":0,\"ticks\":\"\"}},\"marker\":{\"colorbar\":{\"outlinewidth\":0,\"ticks\":\"\"}}}],\"scattermapbox\":[{\"type\":\"scattermapbox\",\"marker\":{\"colorbar\":{\"outlinewidth\":0,\"ticks\":\"\"}}}],\"scatterternary\":[{\"type\":\"scatterternary\",\"marker\":{\"colorbar\":{\"outlinewidth\":0,\"ticks\":\"\"}}}],\"scattercarpet\":[{\"type\":\"scattercarpet\",\"marker\":{\"colorbar\":{\"outlinewidth\":0,\"ticks\":\"\"}}}],\"carpet\":[{\"aaxis\":{\"endlinecolor\":\"#2a3f5f\",\"gridcolor\":\"white\",\"linecolor\":\"white\",\"minorgridcolor\":\"white\",\"startlinecolor\":\"#2a3f5f\"},\"baxis\":{\"endlinecolor\":\"#2a3f5f\",\"gridcolor\":\"white\",\"linecolor\":\"white\",\"minorgridcolor\":\"white\",\"startlinecolor\":\"#2a3f5f\"},\"type\":\"carpet\"}],\"table\":[{\"cells\":{\"fill\":{\"color\":\"#EBF0F8\"},\"line\":{\"color\":\"white\"}},\"header\":{\"fill\":{\"color\":\"#C8D4E3\"},\"line\":{\"color\":\"white\"}},\"type\":\"table\"}],\"barpolar\":[{\"marker\":{\"line\":{\"color\":\"#E5ECF6\",\"width\":0.5},\"pattern\":{\"fillmode\":\"overlay\",\"size\":10,\"solidity\":0.2}},\"type\":\"barpolar\"}],\"pie\":[{\"automargin\":true,\"type\":\"pie\"}]},\"layout\":{\"autotypenumbers\":\"strict\",\"colorway\":[\"#636efa\",\"#EF553B\",\"#00cc96\",\"#ab63fa\",\"#FFA15A\",\"#19d3f3\",\"#FF6692\",\"#B6E880\",\"#FF97FF\",\"#FECB52\"],\"font\":{\"color\":\"#2a3f5f\"},\"hovermode\":\"closest\",\"hoverlabel\":{\"align\":\"left\"},\"paper_bgcolor\":\"white\",\"plot_bgcolor\":\"#E5ECF6\",\"polar\":{\"bgcolor\":\"#E5ECF6\",\"angularaxis\":{\"gridcolor\":\"white\",\"linecolor\":\"white\",\"ticks\":\"\"},\"radialaxis\":{\"gridcolor\":\"white\",\"linecolor\":\"white\",\"ticks\":\"\"}},\"ternary\":{\"bgcolor\":\"#E5ECF6\",\"aaxis\":{\"gridcolor\":\"white\",\"linecolor\":\"white\",\"ticks\":\"\"},\"baxis\":{\"gridcolor\":\"white\",\"linecolor\":\"white\",\"ticks\":\"\"},\"caxis\":{\"gridcolor\":\"white\",\"linecolor\":\"white\",\"ticks\":\"\"}},\"coloraxis\":{\"colorbar\":{\"outlinewidth\":0,\"ticks\":\"\"}},\"colorscale\":{\"sequential\":[[0.0,\"#0d0887\"],[0.1111111111111111,\"#46039f\"],[0.2222222222222222,\"#7201a8\"],[0.3333333333333333,\"#9c179e\"],[0.4444444444444444,\"#bd3786\"],[0.5555555555555556,\"#d8576b\"],[0.6666666666666666,\"#ed7953\"],[0.7777777777777778,\"#fb9f3a\"],[0.8888888888888888,\"#fdca26\"],[1.0,\"#f0f921\"]],\"sequentialminus\":[[0.0,\"#0d0887\"],[0.1111111111111111,\"#46039f\"],[0.2222222222222222,\"#7201a8\"],[0.3333333333333333,\"#9c179e\"],[0.4444444444444444,\"#bd3786\"],[0.5555555555555556,\"#d8576b\"],[0.6666666666666666,\"#ed7953\"],[0.7777777777777778,\"#fb9f3a\"],[0.8888888888888888,\"#fdca26\"],[1.0,\"#f0f921\"]],\"diverging\":[[0,\"#8e0152\"],[0.1,\"#c51b7d\"],[0.2,\"#de77ae\"],[0.3,\"#f1b6da\"],[0.4,\"#fde0ef\"],[0.5,\"#f7f7f7\"],[0.6,\"#e6f5d0\"],[0.7,\"#b8e186\"],[0.8,\"#7fbc41\"],[0.9,\"#4d9221\"],[1,\"#276419\"]]},\"xaxis\":{\"gridcolor\":\"white\",\"linecolor\":\"white\",\"ticks\":\"\",\"title\":{\"standoff\":15},\"zerolinecolor\":\"white\",\"automargin\":true,\"zerolinewidth\":2},\"yaxis\":{\"gridcolor\":\"white\",\"linecolor\":\"white\",\"ticks\":\"\",\"title\":{\"standoff\":15},\"zerolinecolor\":\"white\",\"automargin\":true,\"zerolinewidth\":2},\"scene\":{\"xaxis\":{\"backgroundcolor\":\"#E5ECF6\",\"gridcolor\":\"white\",\"linecolor\":\"white\",\"showbackground\":true,\"ticks\":\"\",\"zerolinecolor\":\"white\",\"gridwidth\":2},\"yaxis\":{\"backgroundcolor\":\"#E5ECF6\",\"gridcolor\":\"white\",\"linecolor\":\"white\",\"showbackground\":true,\"ticks\":\"\",\"zerolinecolor\":\"white\",\"gridwidth\":2},\"zaxis\":{\"backgroundcolor\":\"#E5ECF6\",\"gridcolor\":\"white\",\"linecolor\":\"white\",\"showbackground\":true,\"ticks\":\"\",\"zerolinecolor\":\"white\",\"gridwidth\":2}},\"shapedefaults\":{\"line\":{\"color\":\"#2a3f5f\"}},\"annotationdefaults\":{\"arrowcolor\":\"#2a3f5f\",\"arrowhead\":0,\"arrowwidth\":1},\"geo\":{\"bgcolor\":\"white\",\"landcolor\":\"#E5ECF6\",\"subunitcolor\":\"white\",\"showland\":true,\"showlakes\":true,\"lakecolor\":\"white\"},\"title\":{\"x\":0.05},\"mapbox\":{\"style\":\"light\"}}},\"geo\":{\"domain\":{\"x\":[0.0,1.0],\"y\":[0.0,1.0]},\"center\":{},\"showcountries\":true,\"showcoastlines\":true,\"showland\":true,\"fitbounds\":\"locations\"},\"coloraxis\":{\"colorbar\":{\"title\":{\"text\":\"Event Count\"}},\"colorscale\":[[0.0,\"rgb(255,247,236)\"],[0.125,\"rgb(254,232,200)\"],[0.25,\"rgb(253,212,158)\"],[0.375,\"rgb(253,187,132)\"],[0.5,\"rgb(252,141,89)\"],[0.625,\"rgb(239,101,72)\"],[0.75,\"rgb(215,48,31)\"],[0.875,\"rgb(179,0,0)\"],[1.0,\"rgb(127,0,0)\"]]},\"legend\":{\"tracegroupgap\":0},\"title\":{\"text\":\"Disaster Event Counts by Country (2020–2025)\"},\"margin\":{\"r\":0,\"t\":40,\"l\":0,\"b\":0}},                        {\"responsive\": true}                    ).then(function(){\n",
              "                            \n",
              "var gd = document.getElementById('f7ce8090-106c-43e6-b21e-8b0eea4f2612');\n",
              "var x = new MutationObserver(function (mutations, observer) {{\n",
              "        var display = window.getComputedStyle(gd).display;\n",
              "        if (!display || display === 'none') {{\n",
              "            console.log([gd, 'removed!']);\n",
              "            Plotly.purge(gd);\n",
              "            observer.disconnect();\n",
              "        }}\n",
              "}});\n",
              "\n",
              "// Listen for the removal of the full notebook cells\n",
              "var notebookContainer = gd.closest('#notebook-container');\n",
              "if (notebookContainer) {{\n",
              "    x.observe(notebookContainer, {childList: true});\n",
              "}}\n",
              "\n",
              "// Listen for the clearing of the current output cell\n",
              "var outputEl = gd.closest('.output');\n",
              "if (outputEl) {{\n",
              "    x.observe(outputEl, {childList: true});\n",
              "}}\n",
              "\n",
              "                        })                };                            </script>        </div>\n",
              "</body>\n",
              "</html>"
            ]
          },
          "metadata": {},
          "output_type": "display_data"
        },
        {
          "name": "stdout",
          "output_type": "stream",
          "text": [
            "{'COG': 10, 'ECU': 112, 'COD': 97, 'SOM': 9, 'MMR': 125, 'TZA': 14, 'SLE': 5, 'KGZ': 6, 'MYS': 11, 'ARG': 44, 'CMR': 45, 'BWA': 3, 'ZWE': 5, 'UGA': 6, 'CHL': 21, 'GNB': 2, 'GHA': 2, 'AGO': 188, 'ETH': 9, 'VUT': 8, 'GAB': 9, 'HND': 16, 'COL': 63, 'CRI': 10, 'PAN': 14, 'PHL': 63, 'CUB': 7, 'DZA': 6, 'NPL': 24, 'TCD': 45, 'PRT': 75, 'ROU': 16, 'POL': 4, 'VNM': 66, 'PAK': 18, 'CPV': 2, 'BDI': 4, 'SSD': 4, 'BOL': 217, 'NGA': 9, 'BRB': 1, 'GRD': 4, 'JAM': 2, 'VCT': 5, 'LBR': 3, 'ZAF': 7, 'ARM': 2, 'PNG': 8, 'NAM': 2, 'BGD': 14, 'BLZ': 14, 'KEN': 12, 'GTM': 42, 'LSO': 2, 'BRA': 101, 'YEM': 8, 'AFG': 9, 'MOZ': 8, 'MDG': 4, 'KAZ': 8, 'URY': 2, 'BFA': 16, 'COM': 2, 'BIH': 38, 'MHL': 2, 'ZMB': 9, 'GIN': 6, 'MDV': 1, 'FSM': 1, 'DOM': 4, 'FJI': 7, 'MNG': 13, 'ISL': 28, 'MEX': 125, 'LKA': 7, 'LBY': 1, 'MLI': 10, 'MAR': 1, 'NER': 17, 'IDN': 92, 'MRT': 11, 'SYR': 6, 'GRC': 35, 'SRB': 13, 'ITA': 21, 'MWI': 3, 'SVN': 1, 'GNQ': 1, 'TUR': 12, 'IRN': 13, 'TTO': 1, 'CAF': 9, 'TGO': 1, 'LBN': 1, 'THA': 36, 'BGR': 36, 'BEN': 2, 'LAO': 43, 'GMB': 2, 'GEO': 3, 'IND': 130, 'CIV': 2, 'IRQ': 1, 'VEN': 69, 'STP': 2, 'TUN': 2, 'TLS': 1, 'PSE': 2, 'TON': 10, 'HTI': 1, 'MKD': 30, 'TUV': 1, 'RWA': 2, 'SUR': 6, 'GUY': 44, 'TJK': 2, 'PLW': 1, 'HRV': 8, 'NIC': 43, 'LCA': 6, 'SEN': 1, 'SDN': 1, 'UKR': 8, 'EGY': 1, 'PRY': 8, 'USA': 1787, 'CAN': 4364, 'AUS': 743, 'GUF': 1, 'SLV': 22, 'RUS': 189, 'CHN': 262, 'GBR': 3, 'PER': 17, 'TWN': 19, 'NZL': 37, 'SVK': 5, 'CZE': 4, 'JPN': 98, 'GRL': 22, 'DEU': 9, 'PRK': 2, 'ESP': 32, 'ERI': 1, 'SAU': 3, 'MDA': 3, 'AUT': 9, 'CHE': 7, 'BTN': 11, 'ALB': 33, 'MNE': 8, 'UZB': 1, 'TKM': 1, 'KSV': 9, 'KIR': 3, 'CUW': 3, 'ABW': 3, 'MAF': 3, 'PRI': 11, 'MTQ': 3, 'CYM': 6, 'BES': 3, 'NIU': 3, 'AIA': 3, 'VIR': 3, 'TCA': 3, 'PYF': 3, 'GLP': 3, 'COK': 3, 'BLM': 3, 'ATG': 3, 'VGB': 3, 'KNA': 3, 'DMA': 3, 'SXM': 3, 'WLF': 3, 'MSR': 3, 'SLB': 5, 'FRA': 5, 'SMR': 1, 'MNP': 34, 'HKG': 26, 'GUM': 1, 'SWE': 19, 'BEL': 1, 'LIE': 1, 'KOR': 5, 'FIN': 45, 'ALA': 4, 'HUN': 5, 'MAC': 16, 'KHM': 1}\n"
          ]
        }
      ],
      "source": [
        "# Install required packages\n",
        "!pip install -q plotly pandas requests\n",
        "\n",
        "# Imports\n",
        "import pandas as pd\n",
        "import requests\n",
        "import plotly.express as px\n",
        "from collections import Counter\n",
        "\n",
        "# Step 1: Load ISO metadata\n",
        "iso_url = \"https://raw.githubusercontent.com/IFRCGo/monty-stac-extension/5854516465eb565b689bf8b643d0ed5401e53ccd/docs/model/Montandon_JSON-Example.json\"\n",
        "iso_response = requests.get(url=iso_url)\n",
        "iso_data = iso_response.json()['taxonomies']['ISO_info']\n",
        "\n",
        "# Build ISO3 → Country name mapping\n",
        "iso3_to_country = {item['ISO3']: item['country'] for item in iso_data}\n",
        "\n",
        "# Step 2: Collect STAC country codes\n",
        "collection_list = ['ifrcevent-events', 'pdc-events'] # Note Add all collection id\n",
        "country_list = []\n",
        "\n",
        "for source_event in collection_list:\n",
        "    start_date = \"2020-01-01T00:00:00Z\"\n",
        "    end_date = \"2026-01-01T00:00:00Z\"\n",
        "    datetime_range = f\"{start_date}/{end_date}\"\n",
        "\n",
        "    url = (\n",
        "        f\"https://montandon-eoapi-stage.ifrc.org/stac/collections/\"\n",
        "        f\"{source_event}/items?limit=200&datetime={datetime_range}\"\n",
        "    )\n",
        "\n",
        "    while url:\n",
        "        response = requests.get(url)\n",
        "        if response.status_code != 200:\n",
        "            print(f\"Failed to fetch data for {source_event}: {response.status_code}\")\n",
        "            break\n",
        "\n",
        "        data = response.json()\n",
        "        for item in data.get('features', []):\n",
        "            codes = item['properties'].get('monty:country_codes', [])\n",
        "            country_list.extend(codes)\n",
        "\n",
        "        next_link = next((l.get(\"href\") for l in data.get(\"links\", []) if l.get(\"rel\") == \"next\"), None)\n",
        "        url = next_link\n",
        "\n",
        "# Step 3: Count country code frequencies\n",
        "country_event_counts = dict(Counter(country_list))\n",
        "\n",
        "# Step 4: Prepare DataFrame for Plotly\n",
        "df = pd.DataFrame([\n",
        "    {\"iso3\": iso, \"country\": iso3_to_country.get(iso, iso), \"event_count\": count}\n",
        "    for iso, count in country_event_counts.items()\n",
        "])\n",
        "\n",
        "# Step 5: Create Plotly Choropleth\n",
        "fig = px.choropleth(\n",
        "    df,\n",
        "    locations=\"iso3\",              # ISO3 codes\n",
        "    color=\"event_count\",           # Color by event count\n",
        "    hover_name=\"country\",          # Hover label\n",
        "    color_continuous_scale=\"OrRd\",\n",
        "    title=\"Disaster Event Counts by Country (2020–2025)\",\n",
        "    labels={\"event_count\": \"Event Count\"},\n",
        ")\n",
        "\n",
        "fig.update_geos(showcountries=True, showcoastlines=True, showland=True, fitbounds=\"locations\")\n",
        "fig.update_layout(margin={\"r\":0,\"t\":40,\"l\":0,\"b\":0})\n",
        "\n",
        "# Show the map\n",
        "fig.show()\n",
        "\n",
        "print(country_event_counts)"
      ]
    },
    {
      "cell_type": "code",
      "execution_count": 1,
      "metadata": {},
      "outputs": [
        {
          "name": "stdout",
          "output_type": "stream",
          "text": [
            "12\n"
          ]
        }
      ],
      "source": [
        "import os\n",
        "\n",
        "# Number of CPU cores (physical + virtual)\n",
        "print(os.cpu_count())\n"
      ]
    }
  ],
  "metadata": {
    "colab": {
      "provenance": []
    },
    "kernelspec": {
      "display_name": "IFRC",
      "language": "python",
      "name": "python3"
    },
    "language_info": {
      "codemirror_mode": {
        "name": "ipython",
        "version": 3
      },
      "file_extension": ".py",
      "mimetype": "text/x-python",
      "name": "python",
      "nbconvert_exporter": "python",
      "pygments_lexer": "ipython3",
      "version": "3.9.6"
    }
  },
  "nbformat": 4,
  "nbformat_minor": 0
}
